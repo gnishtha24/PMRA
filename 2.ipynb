{
 "cells": [
  {
   "cell_type": "code",
   "execution_count": 1,
   "id": "40ec24d7",
   "metadata": {},
   "outputs": [
    {
     "name": "stdout",
     "output_type": "stream",
     "text": [
      "Enter the values:1 2 3 4 5 6 3 2 \n",
      "3\n",
      "The moment of order 3 for the given series is: 59.5\n"
     ]
    }
   ],
   "source": [
    "#Q1\n",
    "\n",
    "import pandas as pd\n",
    "import numpy as np\n",
    "import math\n",
    "a=[]\n",
    "a=[int(i) for i in input(\"Enter the values:\").split()]\n",
    "degree=int(input())\n",
    "\n",
    "def moment(series,degree):\n",
    "    n = len(series)\n",
    "    moment = sum(x ** degree for x in series) / n\n",
    "    return moment\n",
    "print(\"The moment of order\",degree,\"for the given series is:\",math.floor(moment(a,degree)*100)/100)    "
   ]
  },
  {
   "cell_type": "code",
   "execution_count": 7,
   "id": "f6301ee1",
   "metadata": {},
   "outputs": [
    {
     "name": "stdout",
     "output_type": "stream",
     "text": [
      "The Jarque Bera result for Convertible Arbitrage is False\n",
      "The Jarque Bera result for CTA Global is False\n",
      "The Jarque Bera result for Distressed Securities is False\n",
      "The Jarque Bera result for Emerging Markets is False\n",
      "The Jarque Bera result for Equity Market Neutral is False\n",
      "The Jarque Bera result for Event Driven is False\n",
      "The Jarque Bera result for Fixed Income Arbitrage is False\n",
      "The Jarque Bera result for Global Macro is False\n",
      "The Jarque Bera result for Long/Short Equity is False\n",
      "The Jarque Bera result for Merger Arbitrage is False\n",
      "The Jarque Bera result for Relative Value is False\n",
      "The Jarque Bera result for Short Selling is False\n",
      "The Jarque Bera result for Funds Of Funds is False\n"
     ]
    }
   ],
   "source": [
    "#Q2\n",
    "\n",
    "df=pd.read_csv(\"edhec-hedgefundindices.csv\")\n",
    "\n",
    "def skewness(x):\n",
    "               return(moment(x,3)/(np.std(x)**3))\n",
    "def kurtosis(x):\n",
    "               return(moment(x,4)/(np.std(x)**4))\n",
    "def JB(x):\n",
    "    s=skewness(x)\n",
    "    k=kurtosis(x)\n",
    "    return((len(x)/6)*(s**2+(k-3)**2)/4)\n",
    "\n",
    "def Jarque_bera(x):\n",
    "    if(JB(x)==0):\n",
    "        return(True)\n",
    "    else:\n",
    "        return(False)\n",
    "for i in df.columns[1:]: #the first column is for dates therefore starting from the 2nd column\n",
    "            print(\"The Jarque Bera result for\",i,\"is\",Jarque_bera(df[i]))\n",
    "       "
   ]
  },
  {
   "cell_type": "code",
   "execution_count": 5,
   "id": "ed5a350f",
   "metadata": {},
   "outputs": [
    {
     "name": "stdout",
     "output_type": "stream",
     "text": [
      "No,real life stock returns do not follow a normal distribution as can be seen in the results of the previous question\n"
     ]
    }
   ],
   "source": [
    "#Q3\n",
    "\n",
    "print(\"No,real life stock returns do not follow a normal distribution as can be seen in the results of the previous question\")"
   ]
  },
  {
   "cell_type": "code",
   "execution_count": 17,
   "id": "b4366896",
   "metadata": {},
   "outputs": [
    {
     "name": "stdout",
     "output_type": "stream",
     "text": [
      "The skewness and kurtosis for Convertible Arbitrage are -1.6 and 20.45 respectively\n",
      "The skewness and kurtosis for CTA Global are 0.71 and 3.26 respectively\n",
      "The skewness and kurtosis for Distressed Securities are 0.0 and 6.8 respectively\n",
      "The skewness and kurtosis for Emerging Markets are -0.58 and 8.58 respectively\n",
      "The skewness and kurtosis for Equity Market Neutral are -0.29 and 14.45 respectively\n",
      "The skewness and kurtosis for Event Driven are -0.21 and 6.79 respectively\n",
      "The skewness and kurtosis for Fixed Income Arbitrage are -2.74 and 24.76 respectively\n",
      "The skewness and kurtosis for Global Macro are 2.14 and 8.02 respectively\n",
      "The skewness and kurtosis for Long/Short Equity are 0.6 and 4.65 respectively\n",
      "The skewness and kurtosis for Merger Arbitrage are 0.53 and 7.76 respectively\n",
      "The skewness and kurtosis for Relative Value are -0.17 and 10.05 respectively\n",
      "The skewness and kurtosis for Short Selling are 0.67 and 6.02 respectively\n",
      "The skewness and kurtosis for Funds Of Funds are 0.49 and 7.14 respectively\n"
     ]
    }
   ],
   "source": [
    "#Q4\n",
    "\n",
    "for i in df.columns[1:]:\n",
    "    print ('The skewness and kurtosis for',i,'are',math.ceil(skewness(df[i])*100)/100,'and',math.ceil(kurtosis(df[i])*100)/100,'respectively')\n",
    "    "
   ]
  },
  {
   "cell_type": "code",
   "execution_count": 15,
   "id": "a2964e4f",
   "metadata": {},
   "outputs": [
    {
     "name": "stdout",
     "output_type": "stream",
     "text": [
      "The maximum skewness can be seen for Global Macro\n",
      "Yes a positive skewness is considered to be good as there is some probability of gaining huge profits that can cover all the frequent small losses.\n"
     ]
    }
   ],
   "source": [
    "print('The maximum skewness can be seen for Global Macro')\n",
    "print('Yes a positive skewness is considered to be good as there is some probability of gaining huge profits that can cover all the frequent small losses.')"
   ]
  }
 ],
 "metadata": {
  "kernelspec": {
   "display_name": "Python 3 (ipykernel)",
   "language": "python",
   "name": "python3"
  },
  "language_info": {
   "codemirror_mode": {
    "name": "ipython",
    "version": 3
   },
   "file_extension": ".py",
   "mimetype": "text/x-python",
   "name": "python",
   "nbconvert_exporter": "python",
   "pygments_lexer": "ipython3",
   "version": "3.10.11"
  }
 },
 "nbformat": 4,
 "nbformat_minor": 5
}
